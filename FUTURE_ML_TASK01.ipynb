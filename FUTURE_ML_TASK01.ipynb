{
 "cells": [
  {
   "cell_type": "code",
   "execution_count": 7,
   "id": "b137e846-085c-4a41-8318-6d4550bd5138",
   "metadata": {},
   "outputs": [
    {
     "name": "stdout",
     "output_type": "stream",
     "text": [
      "Accuracy: 1.00\n",
      "              precision    recall  f1-score   support\n",
      "\n",
      "        Calm       1.00      1.00      1.00     12228\n",
      "   Energetic       1.00      1.00      1.00      1998\n",
      "       Happy       1.00      1.00      1.00      5773\n",
      "         Sad       1.00      1.00      1.00      2801\n",
      "\n",
      "    accuracy                           1.00     22800\n",
      "   macro avg       1.00      1.00      1.00     22800\n",
      "weighted avg       1.00      1.00      1.00     22800\n",
      "\n",
      "Predicted Mood: Calm\n"
     ]
    },
    {
     "name": "stderr",
     "output_type": "stream",
     "text": [
      "C:\\Users\\manas\\anaconda3\\Lib\\site-packages\\sklearn\\base.py:493: UserWarning: X does not have valid feature names, but StandardScaler was fitted with feature names\n",
      "  warnings.warn(\n"
     ]
    }
   ],
   "source": [
    "import pandas as pd\n",
    "import numpy as np\n",
    "import matplotlib.pyplot as plt\n",
    "import seaborn as sns\n",
    "from sklearn.model_selection import train_test_split\n",
    "from sklearn.preprocessing import StandardScaler, LabelEncoder\n",
    "from sklearn.ensemble import RandomForestClassifier\n",
    "from sklearn.metrics import accuracy_score, classification_report\n",
    "\n",
    "# Load the dataset\n",
    "df = pd.read_csv(\"dataset.csv\")  # Replace with actual dataset path\n",
    "\n",
    "# Define mood categories based on valence, energy, and danceability\n",
    "def classify_mood(row):\n",
    "    if row['valence'] > 0.6 and row['energy'] > 0.6:\n",
    "        return \"Happy\"\n",
    "    elif row['valence'] < 0.4 and row['energy'] < 0.4:\n",
    "        return \"Sad\"\n",
    "    elif row['energy'] > 0.7 and row['danceability'] > 0.6:\n",
    "        return \"Energetic\"\n",
    "    else:\n",
    "        return \"Calm\"\n",
    "\n",
    "# Apply the function to create a 'mood' column\n",
    "df['mood'] = df.apply(classify_mood, axis=1)\n",
    "\n",
    "# Encode mood labels into numerical values\n",
    "label_encoder = LabelEncoder()\n",
    "df['mood'] = label_encoder.fit_transform(df['mood'])\n",
    "\n",
    "# Select features and target variable\n",
    "features = ['danceability', 'energy', 'valence', 'tempo', 'acousticness', 'instrumentalness', 'liveness', 'speechiness']\n",
    "X = df[features]\n",
    "y = df['mood']\n",
    "\n",
    "# Split into training and testing sets\n",
    "X_train, X_test, y_train, y_test = train_test_split(X, y, test_size=0.2, random_state=42)\n",
    "\n",
    "# Normalize features\n",
    "scaler = StandardScaler()\n",
    "X_train = scaler.fit_transform(X_train)\n",
    "X_test = scaler.transform(X_test)\n",
    "\n",
    "# Train a Random Forest Classifier\n",
    "model = RandomForestClassifier(n_estimators=100, random_state=42)\n",
    "model.fit(X_train, y_train)\n",
    "\n",
    "# Predictions\n",
    "y_pred = model.predict(X_test)\n",
    "\n",
    "# Evaluate the model\n",
    "accuracy = accuracy_score(y_test, y_pred)\n",
    "print(f\"Accuracy: {accuracy:.2f}\")\n",
    "print(classification_report(y_test, y_pred, target_names=label_encoder.classes_))\n",
    "\n",
    "# Function to classify a new song\n",
    "def classify_song(features):\n",
    "    features = np.array(features).reshape(1, -1)\n",
    "    features = scaler.transform(features)\n",
    "    mood_index = model.predict(features)[0]\n",
    "    return label_encoder.inverse_transform([mood_index])[0]\n",
    "\n",
    "# Example usage\n",
    "new_song_features = [0.8, 0.7, 0.6, 120, 0.1, 0.0, 0.2, 0.05]\n",
    "print(\"Predicted Mood:\", classify_song(new_song_features))"
   ]
  }
 ],
 "metadata": {
  "kernelspec": {
   "display_name": "Python 3 (ipykernel)",
   "language": "python",
   "name": "python3"
  },
  "language_info": {
   "codemirror_mode": {
    "name": "ipython",
    "version": 3
   },
   "file_extension": ".py",
   "mimetype": "text/x-python",
   "name": "python",
   "nbconvert_exporter": "python",
   "pygments_lexer": "ipython3",
   "version": "3.12.4"
  }
 },
 "nbformat": 4,
 "nbformat_minor": 5
}
