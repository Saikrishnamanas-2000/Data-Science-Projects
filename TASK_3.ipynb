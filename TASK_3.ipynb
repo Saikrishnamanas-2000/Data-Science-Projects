{
  "nbformat": 4,
  "nbformat_minor": 0,
  "metadata": {
    "colab": {
      "provenance": []
    },
    "kernelspec": {
      "name": "python3",
      "display_name": "Python 3"
    },
    "language_info": {
      "name": "python"
    }
  },
  "cells": [
    {
      "cell_type": "code",
      "source": [
        "import random\n",
        "\n",
        "# Function to create the Markov Chain\n",
        "def generate_markov_chain(text, n=1):\n",
        "    words = text.split()  # Split the text into words\n",
        "    markov_chain = {}\n",
        "\n",
        "    # Create n-grams and populate the Markov chain\n",
        "    for i in range(len(words) - n):\n",
        "        current_state = tuple(words[i:i + n])  # Using tuple for n-grams\n",
        "        next_word = words[i + n]\n",
        "\n",
        "        # If current_state is not in the markov_chain, add it\n",
        "        if current_state not in markov_chain:\n",
        "            markov_chain[current_state] = []\n",
        "\n",
        "        # Append the next word to the list of possible next words\n",
        "        markov_chain[current_state].append(next_word)\n",
        "\n",
        "    return markov_chain\n",
        "\n",
        "# Function to generate text using the Markov Chain\n",
        "def generate_text(markov_chain, seed, length=100):\n",
        "    current_state = tuple(seed.split())\n",
        "    generated_text = seed\n",
        "\n",
        "    for _ in range(length):\n",
        "        # Get the possible next words from the current state\n",
        "        if current_state in markov_chain:\n",
        "            next_word = random.choice(markov_chain[current_state])\n",
        "            generated_text += \" \" + next_word\n",
        "            current_state = tuple(generated_text.split()[-len(current_state):])  # Shift to the new state\n",
        "        else:\n",
        "            break  # Break if there's no possible next word\n",
        "\n",
        "    return generated_text\n",
        "\n",
        "# Example usage:\n",
        "if __name__ == \"__main__\":\n",
        "    # Input text for training the Markov chain\n",
        "    text = \"The company was founded in December 2002 by Reid Hoffman and the founding team members from PayPal and Socialnet.com (Allen Blue, Eric Ly, Jean-Luc Vaillant, Lee Hower, Konstantin Guericke, Stephen Beitzel, David Eves, Ian McNish, Yan Pujante, Chris Saccheri).[18] In late 2003, Sequoia Capital led the Series A investment in the company.[19] In August 2004, LinkedIn reached 1 million users.[20] In March 2006, LinkedIn achieved its first month of profitability.[20] In April 2007, LinkedIn reached 10 million users.[20] In February 2008, LinkedIn launched a mobile version of the site.\"\n",
        "\n",
        "    # Set the order of the Markov chain (n = 1 for word-level)\n",
        "    n = 2  # Use bigrams (two-word chains)\n",
        "\n",
        "    # Generate the Markov chain\n",
        "    markov_chain = generate_markov_chain(text, n)\n",
        "\n",
        "    # Seed for the text generation\n",
        "    seed = \"The company was\"  # You can change this to any sequence of words from the text\n",
        "\n",
        "    # Generate text\n",
        "    generated_text = generate_text(markov_chain, seed, length=100)\n",
        "\n",
        "    print(f\"Generated Text:\\n{generated_text}\")\n"
      ],
      "metadata": {
        "colab": {
          "base_uri": "https://localhost:8080/"
        },
        "id": "014uUNcZPjfK",
        "outputId": "832142a1-116f-4ef7-e645-e42dd7fbbbbc"
      },
      "execution_count": 24,
      "outputs": [
        {
          "output_type": "stream",
          "name": "stdout",
          "text": [
            "Generated Text:\n",
            "The company was\n"
          ]
        }
      ]
    },
    {
      "cell_type": "code",
      "source": [],
      "metadata": {
        "id": "zaSZgO75PkA6"
      },
      "execution_count": null,
      "outputs": []
    },
    {
      "cell_type": "code",
      "source": [],
      "metadata": {
        "id": "c01eagxKPkLZ"
      },
      "execution_count": null,
      "outputs": []
    },
    {
      "cell_type": "code",
      "source": [],
      "metadata": {
        "id": "GloXIFoUPkSZ"
      },
      "execution_count": null,
      "outputs": []
    },
    {
      "cell_type": "code",
      "source": [],
      "metadata": {
        "id": "u3ZAOQUjPkYB"
      },
      "execution_count": null,
      "outputs": []
    },
    {
      "cell_type": "code",
      "source": [],
      "metadata": {
        "id": "zH4omPs3PkdJ"
      },
      "execution_count": null,
      "outputs": []
    },
    {
      "cell_type": "code",
      "source": [],
      "metadata": {
        "id": "c5WKPyaePkhx"
      },
      "execution_count": null,
      "outputs": []
    },
    {
      "cell_type": "code",
      "source": [],
      "metadata": {
        "id": "5QQejfcLPkm4"
      },
      "execution_count": null,
      "outputs": []
    },
    {
      "cell_type": "code",
      "source": [],
      "metadata": {
        "id": "39Pmy84VPkrp"
      },
      "execution_count": null,
      "outputs": []
    },
    {
      "cell_type": "code",
      "source": [],
      "metadata": {
        "id": "qM6rmtVIPkwL"
      },
      "execution_count": null,
      "outputs": []
    },
    {
      "cell_type": "code",
      "source": [],
      "metadata": {
        "id": "JWTeHLCvPk1Z"
      },
      "execution_count": null,
      "outputs": []
    },
    {
      "cell_type": "code",
      "source": [],
      "metadata": {
        "id": "gGpdI4iwPk6p"
      },
      "execution_count": null,
      "outputs": []
    },
    {
      "cell_type": "code",
      "source": [],
      "metadata": {
        "id": "iawoMpimPk_y"
      },
      "execution_count": null,
      "outputs": []
    },
    {
      "cell_type": "code",
      "source": [],
      "metadata": {
        "id": "OpXWUmDIPlFS"
      },
      "execution_count": null,
      "outputs": []
    },
    {
      "cell_type": "code",
      "source": [],
      "metadata": {
        "id": "KAwv5WjePlKR"
      },
      "execution_count": null,
      "outputs": []
    },
    {
      "cell_type": "code",
      "source": [],
      "metadata": {
        "id": "ZzdmXBHkPlQB"
      },
      "execution_count": null,
      "outputs": []
    }
  ]
}