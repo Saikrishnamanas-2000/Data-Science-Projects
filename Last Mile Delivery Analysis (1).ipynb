{
 "cells": [
  {
   "cell_type": "code",
   "execution_count": 1,
   "id": "53cd927c",
   "metadata": {},
   "outputs": [],
   "source": [
    "# import all the required library\n",
    "import pandas as pd\n",
    "import numpy as np\n",
    "\n",
    "import matplotlib.pyplot as plt"
   ]
  },
  {
   "cell_type": "code",
   "execution_count": 2,
   "id": "7b82b3da",
   "metadata": {},
   "outputs": [],
   "source": [
    "# Read all the dataset\n",
    "orders_df = pd.read_csv(r\"F:\\Data Science\\Innomatics Research Lab\\SEPTEMBER INTERNSHIP\\Data Analysis and Problem Solving\\Last Mile Delivery Analysis\\diminos_data_v2\\diminos_data_v2\\orders.csv\")\n",
    "delivery_df = pd.read_csv(r\"F:\\Data Science\\Innomatics Research Lab\\SEPTEMBER INTERNSHIP\\Data Analysis and Problem Solving\\Last Mile Delivery Analysis\\diminos_data_v2\\diminos_data_v2\\deliveries.csv\")\n",
    "order_items_df = pd.read_csv(r\"F:\\Data Science\\Innomatics Research Lab\\SEPTEMBER INTERNSHIP\\Data Analysis and Problem Solving\\Last Mile Delivery Analysis\\diminos_data_v2\\diminos_data_v2\\order_items.csv\")\n",
    "products_df = pd.read_csv(r\"F:\\Data Science\\Innomatics Research Lab\\SEPTEMBER INTERNSHIP\\Data Analysis and Problem Solving\\Last Mile Delivery Analysis\\diminos_data_v2\\diminos_data_v2\\products.csv\")"
   ]
  },
  {
   "cell_type": "code",
   "execution_count": 3,
   "id": "94c5998e",
   "metadata": {},
   "outputs": [],
   "source": [
    "# Initial Data Exploration and Summary"
   ]
  },
  {
   "cell_type": "code",
   "execution_count": 4,
   "id": "5da41865",
   "metadata": {},
   "outputs": [],
   "source": [
    "# Remove the leading and trailing spaces in the columns' name\n",
    "orders_df.columns = orders_df.columns.str.strip()\n",
    "order_items_df.columns = order_items_df.columns.str.strip()\n",
    "delivery_df.columns = delivery_df.columns.str.strip()\n",
    "products_df.columns = products_df.columns.str.strip()"
   ]
  },
  {
   "cell_type": "code",
   "execution_count": 5,
   "id": "b9946975",
   "metadata": {},
   "outputs": [],
   "source": [
    "# Not there won't be any leading or trailing spaces in the columns' name"
   ]
  },
  {
   "cell_type": "code",
   "execution_count": 6,
   "id": "21d5e27a",
   "metadata": {},
   "outputs": [
    {
     "data": {
      "text/html": [
       "<div>\n",
       "<style scoped>\n",
       "    .dataframe tbody tr th:only-of-type {\n",
       "        vertical-align: middle;\n",
       "    }\n",
       "\n",
       "    .dataframe tbody tr th {\n",
       "        vertical-align: top;\n",
       "    }\n",
       "\n",
       "    .dataframe thead th {\n",
       "        text-align: right;\n",
       "    }\n",
       "</style>\n",
       "<table border=\"1\" class=\"dataframe\">\n",
       "  <thead>\n",
       "    <tr style=\"text-align: right;\">\n",
       "      <th></th>\n",
       "      <th>item_id</th>\n",
       "      <th>category</th>\n",
       "      <th>Item</th>\n",
       "      <th>Size</th>\n",
       "      <th>Price</th>\n",
       "    </tr>\n",
       "  </thead>\n",
       "  <tbody>\n",
       "    <tr>\n",
       "      <th>0</th>\n",
       "      <td>p_001</td>\n",
       "      <td>Veg</td>\n",
       "      <td>Margherita</td>\n",
       "      <td>Regular</td>\n",
       "      <td>109</td>\n",
       "    </tr>\n",
       "    <tr>\n",
       "      <th>1</th>\n",
       "      <td>p_002</td>\n",
       "      <td>Veg</td>\n",
       "      <td>Margherita</td>\n",
       "      <td>Medium</td>\n",
       "      <td>245</td>\n",
       "    </tr>\n",
       "    <tr>\n",
       "      <th>2</th>\n",
       "      <td>p_003</td>\n",
       "      <td>Veg</td>\n",
       "      <td>Margherita</td>\n",
       "      <td>Large</td>\n",
       "      <td>455</td>\n",
       "    </tr>\n",
       "    <tr>\n",
       "      <th>3</th>\n",
       "      <td>p_004</td>\n",
       "      <td>Veg</td>\n",
       "      <td>Double Cheese Margherita</td>\n",
       "      <td>Regular</td>\n",
       "      <td>215</td>\n",
       "    </tr>\n",
       "    <tr>\n",
       "      <th>4</th>\n",
       "      <td>p_005</td>\n",
       "      <td>Veg</td>\n",
       "      <td>Double Cheese Margherita</td>\n",
       "      <td>Medium</td>\n",
       "      <td>385</td>\n",
       "    </tr>\n",
       "  </tbody>\n",
       "</table>\n",
       "</div>"
      ],
      "text/plain": [
       "  item_id category                      Item     Size  Price\n",
       "0   p_001      Veg                Margherita  Regular    109\n",
       "1   p_002      Veg                Margherita   Medium    245\n",
       "2   p_003      Veg                Margherita    Large    455\n",
       "3   p_004      Veg  Double Cheese Margherita  Regular    215\n",
       "4   p_005      Veg  Double Cheese Margherita   Medium    385"
      ]
     },
     "execution_count": 6,
     "metadata": {},
     "output_type": "execute_result"
    }
   ],
   "source": [
    "products_df.head()"
   ]
  },
  {
   "cell_type": "code",
   "execution_count": 7,
   "id": "9f3fae53",
   "metadata": {},
   "outputs": [
    {
     "data": {
      "text/plain": [
       "(37, 5)"
      ]
     },
     "execution_count": 7,
     "metadata": {},
     "output_type": "execute_result"
    }
   ],
   "source": [
    "products_df.shape"
   ]
  },
  {
   "cell_type": "code",
   "execution_count": 8,
   "id": "0d0a8bcd",
   "metadata": {},
   "outputs": [
    {
     "name": "stdout",
     "output_type": "stream",
     "text": [
      "<class 'pandas.core.frame.DataFrame'>\n",
      "RangeIndex: 37 entries, 0 to 36\n",
      "Data columns (total 5 columns):\n",
      " #   Column    Non-Null Count  Dtype \n",
      "---  ------    --------------  ----- \n",
      " 0   item_id   37 non-null     object\n",
      " 1   category  37 non-null     object\n",
      " 2   Item      37 non-null     object\n",
      " 3   Size      37 non-null     object\n",
      " 4   Price     37 non-null     int64 \n",
      "dtypes: int64(1), object(4)\n",
      "memory usage: 1.6+ KB\n"
     ]
    }
   ],
   "source": [
    "products_df.info()"
   ]
  },
  {
   "cell_type": "code",
   "execution_count": 9,
   "id": "69e9f2ab",
   "metadata": {},
   "outputs": [
    {
     "data": {
      "text/plain": [
       "item_id     0\n",
       "category    0\n",
       "Item        0\n",
       "Size        0\n",
       "Price       0\n",
       "dtype: int64"
      ]
     },
     "execution_count": 9,
     "metadata": {},
     "output_type": "execute_result"
    }
   ],
   "source": [
    "# Check for the null values\n",
    "products_df.isnull().sum()"
   ]
  },
  {
   "cell_type": "code",
   "execution_count": 10,
   "id": "c9deec03",
   "metadata": {},
   "outputs": [
    {
     "data": {
      "text/html": [
       "<div>\n",
       "<style scoped>\n",
       "    .dataframe tbody tr th:only-of-type {\n",
       "        vertical-align: middle;\n",
       "    }\n",
       "\n",
       "    .dataframe tbody tr th {\n",
       "        vertical-align: top;\n",
       "    }\n",
       "\n",
       "    .dataframe thead th {\n",
       "        text-align: right;\n",
       "    }\n",
       "</style>\n",
       "<table border=\"1\" class=\"dataframe\">\n",
       "  <thead>\n",
       "    <tr style=\"text-align: right;\">\n",
       "      <th></th>\n",
       "      <th>item_id</th>\n",
       "      <th>category</th>\n",
       "      <th>Item</th>\n",
       "      <th>Size</th>\n",
       "      <th>Price</th>\n",
       "    </tr>\n",
       "  </thead>\n",
       "  <tbody>\n",
       "  </tbody>\n",
       "</table>\n",
       "</div>"
      ],
      "text/plain": [
       "Empty DataFrame\n",
       "Columns: [item_id, category, Item, Size, Price]\n",
       "Index: []"
      ]
     },
     "execution_count": 10,
     "metadata": {},
     "output_type": "execute_result"
    }
   ],
   "source": [
    "products_df[products_df.isnull().any(axis = 1)]"
   ]
  },
  {
   "cell_type": "code",
   "execution_count": 11,
   "id": "c2763702",
   "metadata": {},
   "outputs": [],
   "source": [
    "# Products dataset doesn't contain any null values."
   ]
  },
  {
   "cell_type": "code",
   "execution_count": 12,
   "id": "d9185094",
   "metadata": {},
   "outputs": [
    {
     "data": {
      "text/html": [
       "<div>\n",
       "<style scoped>\n",
       "    .dataframe tbody tr th:only-of-type {\n",
       "        vertical-align: middle;\n",
       "    }\n",
       "\n",
       "    .dataframe tbody tr th {\n",
       "        vertical-align: top;\n",
       "    }\n",
       "\n",
       "    .dataframe thead th {\n",
       "        text-align: right;\n",
       "    }\n",
       "</style>\n",
       "<table border=\"1\" class=\"dataframe\">\n",
       "  <thead>\n",
       "    <tr style=\"text-align: right;\">\n",
       "      <th></th>\n",
       "      <th>order_id</th>\n",
       "      <th>items_ordered</th>\n",
       "    </tr>\n",
       "  </thead>\n",
       "  <tbody>\n",
       "    <tr>\n",
       "      <th>0</th>\n",
       "      <td>321230114</td>\n",
       "      <td>['p_025', 'p_032', 'p_037']</td>\n",
       "    </tr>\n",
       "    <tr>\n",
       "      <th>1</th>\n",
       "      <td>321230115</td>\n",
       "      <td>['p_017', 'p_012']</td>\n",
       "    </tr>\n",
       "    <tr>\n",
       "      <th>2</th>\n",
       "      <td>321230116</td>\n",
       "      <td>['p_027', 'p_037']</td>\n",
       "    </tr>\n",
       "    <tr>\n",
       "      <th>3</th>\n",
       "      <td>321230117</td>\n",
       "      <td>['p_004', 'p_029']</td>\n",
       "    </tr>\n",
       "    <tr>\n",
       "      <th>4</th>\n",
       "      <td>321230118</td>\n",
       "      <td>['p_017', 'p_037']</td>\n",
       "    </tr>\n",
       "  </tbody>\n",
       "</table>\n",
       "</div>"
      ],
      "text/plain": [
       "    order_id                items_ordered\n",
       "0  321230114  ['p_025', 'p_032', 'p_037']\n",
       "1  321230115           ['p_017', 'p_012']\n",
       "2  321230116           ['p_027', 'p_037']\n",
       "3  321230117           ['p_004', 'p_029']\n",
       "4  321230118           ['p_017', 'p_037']"
      ]
     },
     "execution_count": 12,
     "metadata": {},
     "output_type": "execute_result"
    }
   ],
   "source": [
    "order_items_df.head()"
   ]
  },
  {
   "cell_type": "code",
   "execution_count": 13,
   "id": "4ea5bc85",
   "metadata": {},
   "outputs": [
    {
     "data": {
      "text/plain": [
       "(454336, 2)"
      ]
     },
     "execution_count": 13,
     "metadata": {},
     "output_type": "execute_result"
    }
   ],
   "source": [
    "order_items_df.shape"
   ]
  },
  {
   "cell_type": "code",
   "execution_count": 14,
   "id": "ffe3fb0f",
   "metadata": {},
   "outputs": [
    {
     "name": "stdout",
     "output_type": "stream",
     "text": [
      "<class 'pandas.core.frame.DataFrame'>\n",
      "RangeIndex: 454336 entries, 0 to 454335\n",
      "Data columns (total 2 columns):\n",
      " #   Column         Non-Null Count   Dtype \n",
      "---  ------         --------------   ----- \n",
      " 0   order_id       454336 non-null  int64 \n",
      " 1   items_ordered  454336 non-null  object\n",
      "dtypes: int64(1), object(1)\n",
      "memory usage: 6.9+ MB\n"
     ]
    }
   ],
   "source": [
    "order_items_df.info()"
   ]
  },
  {
   "cell_type": "code",
   "execution_count": 15,
   "id": "9d84bb5a",
   "metadata": {},
   "outputs": [
    {
     "data": {
      "text/plain": [
       "order_id         0\n",
       "items_ordered    0\n",
       "dtype: int64"
      ]
     },
     "execution_count": 15,
     "metadata": {},
     "output_type": "execute_result"
    }
   ],
   "source": [
    "order_items_df.isnull().sum()"
   ]
  },
  {
   "cell_type": "code",
   "execution_count": 16,
   "id": "0747f729",
   "metadata": {},
   "outputs": [
    {
     "data": {
      "text/html": [
       "<div>\n",
       "<style scoped>\n",
       "    .dataframe tbody tr th:only-of-type {\n",
       "        vertical-align: middle;\n",
       "    }\n",
       "\n",
       "    .dataframe tbody tr th {\n",
       "        vertical-align: top;\n",
       "    }\n",
       "\n",
       "    .dataframe thead th {\n",
       "        text-align: right;\n",
       "    }\n",
       "</style>\n",
       "<table border=\"1\" class=\"dataframe\">\n",
       "  <thead>\n",
       "    <tr style=\"text-align: right;\">\n",
       "      <th></th>\n",
       "      <th>order_id</th>\n",
       "      <th>items_ordered</th>\n",
       "    </tr>\n",
       "  </thead>\n",
       "  <tbody>\n",
       "  </tbody>\n",
       "</table>\n",
       "</div>"
      ],
      "text/plain": [
       "Empty DataFrame\n",
       "Columns: [order_id, items_ordered]\n",
       "Index: []"
      ]
     },
     "execution_count": 16,
     "metadata": {},
     "output_type": "execute_result"
    }
   ],
   "source": [
    "order_items_df[order_items_df.isnull().any(axis = 1)]"
   ]
  },
  {
   "cell_type": "code",
   "execution_count": 17,
   "id": "607be3a3",
   "metadata": {},
   "outputs": [],
   "source": [
    "# Order_items dataset doesn't contain any null values"
   ]
  },
  {
   "cell_type": "code",
   "execution_count": 18,
   "id": "65739e7c",
   "metadata": {},
   "outputs": [
    {
     "data": {
      "text/html": [
       "<div>\n",
       "<style scoped>\n",
       "    .dataframe tbody tr th:only-of-type {\n",
       "        vertical-align: middle;\n",
       "    }\n",
       "\n",
       "    .dataframe tbody tr th {\n",
       "        vertical-align: top;\n",
       "    }\n",
       "\n",
       "    .dataframe thead th {\n",
       "        text-align: right;\n",
       "    }\n",
       "</style>\n",
       "<table border=\"1\" class=\"dataframe\">\n",
       "  <thead>\n",
       "    <tr style=\"text-align: right;\">\n",
       "      <th></th>\n",
       "      <th>order_id</th>\n",
       "      <th>order_placed_at</th>\n",
       "    </tr>\n",
       "  </thead>\n",
       "  <tbody>\n",
       "    <tr>\n",
       "      <th>0</th>\n",
       "      <td>321230114</td>\n",
       "      <td>2020-12-11 00:01:29</td>\n",
       "    </tr>\n",
       "    <tr>\n",
       "      <th>1</th>\n",
       "      <td>321230115</td>\n",
       "      <td>2020-12-11 00:36:02</td>\n",
       "    </tr>\n",
       "    <tr>\n",
       "      <th>2</th>\n",
       "      <td>321230116</td>\n",
       "      <td>2020-12-11 00:55:01</td>\n",
       "    </tr>\n",
       "    <tr>\n",
       "      <th>3</th>\n",
       "      <td>321230117</td>\n",
       "      <td>2020-12-11 01:05:27</td>\n",
       "    </tr>\n",
       "    <tr>\n",
       "      <th>4</th>\n",
       "      <td>321230118</td>\n",
       "      <td>2020-12-11 01:14:20</td>\n",
       "    </tr>\n",
       "  </tbody>\n",
       "</table>\n",
       "</div>"
      ],
      "text/plain": [
       "    order_id      order_placed_at\n",
       "0  321230114  2020-12-11 00:01:29\n",
       "1  321230115  2020-12-11 00:36:02\n",
       "2  321230116  2020-12-11 00:55:01\n",
       "3  321230117  2020-12-11 01:05:27\n",
       "4  321230118  2020-12-11 01:14:20"
      ]
     },
     "execution_count": 18,
     "metadata": {},
     "output_type": "execute_result"
    }
   ],
   "source": [
    "orders_df.head()"
   ]
  },
  {
   "cell_type": "code",
   "execution_count": 19,
   "id": "c31d43cc",
   "metadata": {},
   "outputs": [
    {
     "data": {
      "text/plain": [
       "(454336, 2)"
      ]
     },
     "execution_count": 19,
     "metadata": {},
     "output_type": "execute_result"
    }
   ],
   "source": [
    "orders_df.shape"
   ]
  },
  {
   "cell_type": "code",
   "execution_count": 20,
   "id": "41c0ff77",
   "metadata": {},
   "outputs": [
    {
     "name": "stdout",
     "output_type": "stream",
     "text": [
      "<class 'pandas.core.frame.DataFrame'>\n",
      "RangeIndex: 454336 entries, 0 to 454335\n",
      "Data columns (total 2 columns):\n",
      " #   Column           Non-Null Count   Dtype \n",
      "---  ------           --------------   ----- \n",
      " 0   order_id         454336 non-null  int64 \n",
      " 1   order_placed_at  454336 non-null  object\n",
      "dtypes: int64(1), object(1)\n",
      "memory usage: 6.9+ MB\n"
     ]
    }
   ],
   "source": [
    "orders_df.info()"
   ]
  },
  {
   "cell_type": "code",
   "execution_count": 21,
   "id": "ed4f4494",
   "metadata": {},
   "outputs": [],
   "source": [
    "# Here the datatype of order_placed_at is not correct, needed to fix it\n",
    "orders_df[\"order_placed_at\"] = pd.to_datetime(orders_df[\"order_placed_at\"])"
   ]
  },
  {
   "cell_type": "code",
   "execution_count": 22,
   "id": "0f81af1d",
   "metadata": {},
   "outputs": [
    {
     "data": {
      "text/plain": [
       "dtype('<M8[ns]')"
      ]
     },
     "execution_count": 22,
     "metadata": {},
     "output_type": "execute_result"
    }
   ],
   "source": [
    "# Check for the datatypes\n",
    "orders_df[\"order_placed_at\"].dtypes"
   ]
  },
  {
   "cell_type": "code",
   "execution_count": 23,
   "id": "43cf9cc9",
   "metadata": {},
   "outputs": [
    {
     "data": {
      "text/plain": [
       "order_id           0\n",
       "order_placed_at    0\n",
       "dtype: int64"
      ]
     },
     "execution_count": 23,
     "metadata": {},
     "output_type": "execute_result"
    }
   ],
   "source": [
    "orders_df.isnull().sum()"
   ]
  },
  {
   "cell_type": "code",
   "execution_count": 24,
   "id": "da58c81d",
   "metadata": {},
   "outputs": [
    {
     "data": {
      "text/html": [
       "<div>\n",
       "<style scoped>\n",
       "    .dataframe tbody tr th:only-of-type {\n",
       "        vertical-align: middle;\n",
       "    }\n",
       "\n",
       "    .dataframe tbody tr th {\n",
       "        vertical-align: top;\n",
       "    }\n",
       "\n",
       "    .dataframe thead th {\n",
       "        text-align: right;\n",
       "    }\n",
       "</style>\n",
       "<table border=\"1\" class=\"dataframe\">\n",
       "  <thead>\n",
       "    <tr style=\"text-align: right;\">\n",
       "      <th></th>\n",
       "      <th>order_id</th>\n",
       "      <th>order_placed_at</th>\n",
       "    </tr>\n",
       "  </thead>\n",
       "  <tbody>\n",
       "  </tbody>\n",
       "</table>\n",
       "</div>"
      ],
      "text/plain": [
       "Empty DataFrame\n",
       "Columns: [order_id, order_placed_at]\n",
       "Index: []"
      ]
     },
     "execution_count": 24,
     "metadata": {},
     "output_type": "execute_result"
    }
   ],
   "source": [
    "orders_df[orders_df.isnull().any(axis = 1)]"
   ]
  },
  {
   "cell_type": "code",
   "execution_count": 25,
   "id": "248723b0",
   "metadata": {},
   "outputs": [],
   "source": [
    "# Orders dataset doesn't contain any kind of null values"
   ]
  },
  {
   "cell_type": "code",
   "execution_count": 26,
   "id": "68f920e6",
   "metadata": {},
   "outputs": [
    {
     "data": {
      "text/html": [
       "<div>\n",
       "<style scoped>\n",
       "    .dataframe tbody tr th:only-of-type {\n",
       "        vertical-align: middle;\n",
       "    }\n",
       "\n",
       "    .dataframe tbody tr th {\n",
       "        vertical-align: top;\n",
       "    }\n",
       "\n",
       "    .dataframe thead th {\n",
       "        text-align: right;\n",
       "    }\n",
       "</style>\n",
       "<table border=\"1\" class=\"dataframe\">\n",
       "  <thead>\n",
       "    <tr style=\"text-align: right;\">\n",
       "      <th></th>\n",
       "      <th>order_id</th>\n",
       "      <th>time_stamp</th>\n",
       "      <th>status</th>\n",
       "    </tr>\n",
       "  </thead>\n",
       "  <tbody>\n",
       "    <tr>\n",
       "      <th>0</th>\n",
       "      <td>321230114</td>\n",
       "      <td>2020-12-11 00:01:29.000000000</td>\n",
       "      <td>Pending</td>\n",
       "    </tr>\n",
       "    <tr>\n",
       "      <th>1</th>\n",
       "      <td>321230114</td>\n",
       "      <td>2020-12-11 00:06:29.000000000</td>\n",
       "      <td>Out For Delivery</td>\n",
       "    </tr>\n",
       "    <tr>\n",
       "      <th>2</th>\n",
       "      <td>321230114</td>\n",
       "      <td>2020-12-11 00:19:13.299151076</td>\n",
       "      <td>Delivered</td>\n",
       "    </tr>\n",
       "    <tr>\n",
       "      <th>3</th>\n",
       "      <td>321230115</td>\n",
       "      <td>2020-12-11 00:36:02.000000000</td>\n",
       "      <td>Pending</td>\n",
       "    </tr>\n",
       "    <tr>\n",
       "      <th>4</th>\n",
       "      <td>321230115</td>\n",
       "      <td>2020-12-11 00:41:02.000000000</td>\n",
       "      <td>Out For Delivery</td>\n",
       "    </tr>\n",
       "  </tbody>\n",
       "</table>\n",
       "</div>"
      ],
      "text/plain": [
       "    order_id                     time_stamp            status\n",
       "0  321230114  2020-12-11 00:01:29.000000000           Pending\n",
       "1  321230114  2020-12-11 00:06:29.000000000  Out For Delivery\n",
       "2  321230114  2020-12-11 00:19:13.299151076         Delivered\n",
       "3  321230115  2020-12-11 00:36:02.000000000           Pending\n",
       "4  321230115  2020-12-11 00:41:02.000000000  Out For Delivery"
      ]
     },
     "execution_count": 26,
     "metadata": {},
     "output_type": "execute_result"
    }
   ],
   "source": [
    "delivery_df.head()"
   ]
  },
  {
   "cell_type": "code",
   "execution_count": 27,
   "id": "16a2de20",
   "metadata": {},
   "outputs": [
    {
     "data": {
      "text/plain": [
       "(1363008, 3)"
      ]
     },
     "execution_count": 27,
     "metadata": {},
     "output_type": "execute_result"
    }
   ],
   "source": [
    "delivery_df.shape"
   ]
  },
  {
   "cell_type": "code",
   "execution_count": 28,
   "id": "aa6d732f",
   "metadata": {},
   "outputs": [
    {
     "name": "stdout",
     "output_type": "stream",
     "text": [
      "<class 'pandas.core.frame.DataFrame'>\n",
      "RangeIndex: 1363008 entries, 0 to 1363007\n",
      "Data columns (total 3 columns):\n",
      " #   Column      Non-Null Count    Dtype \n",
      "---  ------      --------------    ----- \n",
      " 0   order_id    1363008 non-null  int64 \n",
      " 1   time_stamp  1363008 non-null  object\n",
      " 2   status      1363008 non-null  object\n",
      "dtypes: int64(1), object(2)\n",
      "memory usage: 31.2+ MB\n"
     ]
    }
   ],
   "source": [
    "delivery_df.info()"
   ]
  },
  {
   "cell_type": "code",
   "execution_count": 29,
   "id": "660d4675",
   "metadata": {},
   "outputs": [],
   "source": [
    "# Convert the datatype of time_stamp from object to datetime\n",
    "delivery_df[\"time_stamp\"] = pd.to_datetime(delivery_df[\"time_stamp\"])"
   ]
  },
  {
   "cell_type": "code",
   "execution_count": 30,
   "id": "45b0a9be",
   "metadata": {},
   "outputs": [
    {
     "data": {
      "text/plain": [
       "dtype('<M8[ns]')"
      ]
     },
     "execution_count": 30,
     "metadata": {},
     "output_type": "execute_result"
    }
   ],
   "source": [
    "delivery_df[\"time_stamp\"].dtype"
   ]
  },
  {
   "cell_type": "code",
   "execution_count": 31,
   "id": "95f1f77c",
   "metadata": {},
   "outputs": [
    {
     "data": {
      "text/plain": [
       "order_id      0\n",
       "time_stamp    0\n",
       "status        0\n",
       "dtype: int64"
      ]
     },
     "execution_count": 31,
     "metadata": {},
     "output_type": "execute_result"
    }
   ],
   "source": [
    "delivery_df.isnull().sum()"
   ]
  },
  {
   "cell_type": "code",
   "execution_count": 32,
   "id": "b2b589f7",
   "metadata": {},
   "outputs": [
    {
     "data": {
      "text/html": [
       "<div>\n",
       "<style scoped>\n",
       "    .dataframe tbody tr th:only-of-type {\n",
       "        vertical-align: middle;\n",
       "    }\n",
       "\n",
       "    .dataframe tbody tr th {\n",
       "        vertical-align: top;\n",
       "    }\n",
       "\n",
       "    .dataframe thead th {\n",
       "        text-align: right;\n",
       "    }\n",
       "</style>\n",
       "<table border=\"1\" class=\"dataframe\">\n",
       "  <thead>\n",
       "    <tr style=\"text-align: right;\">\n",
       "      <th></th>\n",
       "      <th>order_id</th>\n",
       "      <th>time_stamp</th>\n",
       "      <th>status</th>\n",
       "    </tr>\n",
       "  </thead>\n",
       "  <tbody>\n",
       "  </tbody>\n",
       "</table>\n",
       "</div>"
      ],
      "text/plain": [
       "Empty DataFrame\n",
       "Columns: [order_id, time_stamp, status]\n",
       "Index: []"
      ]
     },
     "execution_count": 32,
     "metadata": {},
     "output_type": "execute_result"
    }
   ],
   "source": [
    "delivery_df[delivery_df.isnull().any(axis = 1)]"
   ]
  },
  {
   "cell_type": "code",
   "execution_count": 33,
   "id": "c093f568",
   "metadata": {},
   "outputs": [],
   "source": [
    "# Even delivery dataset doesn't contain any sort of null values"
   ]
  },
  {
   "cell_type": "code",
   "execution_count": 34,
   "id": "3b6465cc",
   "metadata": {},
   "outputs": [],
   "source": [
    "# None of datasets contain any sort of NULL values, now data is ready for the analysis "
   ]
  },
  {
   "cell_type": "code",
   "execution_count": 35,
   "id": "07e98173",
   "metadata": {},
   "outputs": [
    {
     "data": {
      "text/html": [
       "<div>\n",
       "<style scoped>\n",
       "    .dataframe tbody tr th:only-of-type {\n",
       "        vertical-align: middle;\n",
       "    }\n",
       "\n",
       "    .dataframe tbody tr th {\n",
       "        vertical-align: top;\n",
       "    }\n",
       "\n",
       "    .dataframe thead th {\n",
       "        text-align: right;\n",
       "    }\n",
       "</style>\n",
       "<table border=\"1\" class=\"dataframe\">\n",
       "  <thead>\n",
       "    <tr style=\"text-align: right;\">\n",
       "      <th></th>\n",
       "      <th>item_id</th>\n",
       "      <th>category</th>\n",
       "      <th>Item</th>\n",
       "      <th>Size</th>\n",
       "      <th>Price</th>\n",
       "    </tr>\n",
       "  </thead>\n",
       "  <tbody>\n",
       "    <tr>\n",
       "      <th>0</th>\n",
       "      <td>p_001</td>\n",
       "      <td>Veg</td>\n",
       "      <td>Margherita</td>\n",
       "      <td>Regular</td>\n",
       "      <td>109</td>\n",
       "    </tr>\n",
       "    <tr>\n",
       "      <th>1</th>\n",
       "      <td>p_002</td>\n",
       "      <td>Veg</td>\n",
       "      <td>Margherita</td>\n",
       "      <td>Medium</td>\n",
       "      <td>245</td>\n",
       "    </tr>\n",
       "  </tbody>\n",
       "</table>\n",
       "</div>"
      ],
      "text/plain": [
       "  item_id category        Item     Size  Price\n",
       "0   p_001      Veg  Margherita  Regular    109\n",
       "1   p_002      Veg  Margherita   Medium    245"
      ]
     },
     "execution_count": 35,
     "metadata": {},
     "output_type": "execute_result"
    }
   ],
   "source": [
    "products_df.head(2)"
   ]
  },
  {
   "cell_type": "code",
   "execution_count": 36,
   "id": "023129f8",
   "metadata": {},
   "outputs": [
    {
     "data": {
      "text/html": [
       "<div>\n",
       "<style scoped>\n",
       "    .dataframe tbody tr th:only-of-type {\n",
       "        vertical-align: middle;\n",
       "    }\n",
       "\n",
       "    .dataframe tbody tr th {\n",
       "        vertical-align: top;\n",
       "    }\n",
       "\n",
       "    .dataframe thead th {\n",
       "        text-align: right;\n",
       "    }\n",
       "</style>\n",
       "<table border=\"1\" class=\"dataframe\">\n",
       "  <thead>\n",
       "    <tr style=\"text-align: right;\">\n",
       "      <th></th>\n",
       "      <th>order_id</th>\n",
       "      <th>order_placed_at</th>\n",
       "    </tr>\n",
       "  </thead>\n",
       "  <tbody>\n",
       "    <tr>\n",
       "      <th>0</th>\n",
       "      <td>321230114</td>\n",
       "      <td>2020-12-11 00:01:29</td>\n",
       "    </tr>\n",
       "    <tr>\n",
       "      <th>1</th>\n",
       "      <td>321230115</td>\n",
       "      <td>2020-12-11 00:36:02</td>\n",
       "    </tr>\n",
       "  </tbody>\n",
       "</table>\n",
       "</div>"
      ],
      "text/plain": [
       "    order_id     order_placed_at\n",
       "0  321230114 2020-12-11 00:01:29\n",
       "1  321230115 2020-12-11 00:36:02"
      ]
     },
     "execution_count": 36,
     "metadata": {},
     "output_type": "execute_result"
    }
   ],
   "source": [
    "orders_df.head(2)"
   ]
  },
  {
   "cell_type": "code",
   "execution_count": 37,
   "id": "de6f1f96",
   "metadata": {},
   "outputs": [
    {
     "data": {
      "text/html": [
       "<div>\n",
       "<style scoped>\n",
       "    .dataframe tbody tr th:only-of-type {\n",
       "        vertical-align: middle;\n",
       "    }\n",
       "\n",
       "    .dataframe tbody tr th {\n",
       "        vertical-align: top;\n",
       "    }\n",
       "\n",
       "    .dataframe thead th {\n",
       "        text-align: right;\n",
       "    }\n",
       "</style>\n",
       "<table border=\"1\" class=\"dataframe\">\n",
       "  <thead>\n",
       "    <tr style=\"text-align: right;\">\n",
       "      <th></th>\n",
       "      <th>order_id</th>\n",
       "      <th>items_ordered</th>\n",
       "    </tr>\n",
       "  </thead>\n",
       "  <tbody>\n",
       "    <tr>\n",
       "      <th>0</th>\n",
       "      <td>321230114</td>\n",
       "      <td>['p_025', 'p_032', 'p_037']</td>\n",
       "    </tr>\n",
       "    <tr>\n",
       "      <th>1</th>\n",
       "      <td>321230115</td>\n",
       "      <td>['p_017', 'p_012']</td>\n",
       "    </tr>\n",
       "  </tbody>\n",
       "</table>\n",
       "</div>"
      ],
      "text/plain": [
       "    order_id                items_ordered\n",
       "0  321230114  ['p_025', 'p_032', 'p_037']\n",
       "1  321230115           ['p_017', 'p_012']"
      ]
     },
     "execution_count": 37,
     "metadata": {},
     "output_type": "execute_result"
    }
   ],
   "source": [
    "order_items_df.head(2)"
   ]
  },
  {
   "cell_type": "code",
   "execution_count": 38,
   "id": "85bbe1d5",
   "metadata": {},
   "outputs": [
    {
     "data": {
      "text/html": [
       "<div>\n",
       "<style scoped>\n",
       "    .dataframe tbody tr th:only-of-type {\n",
       "        vertical-align: middle;\n",
       "    }\n",
       "\n",
       "    .dataframe tbody tr th {\n",
       "        vertical-align: top;\n",
       "    }\n",
       "\n",
       "    .dataframe thead th {\n",
       "        text-align: right;\n",
       "    }\n",
       "</style>\n",
       "<table border=\"1\" class=\"dataframe\">\n",
       "  <thead>\n",
       "    <tr style=\"text-align: right;\">\n",
       "      <th></th>\n",
       "      <th>order_id</th>\n",
       "      <th>time_stamp</th>\n",
       "      <th>status</th>\n",
       "    </tr>\n",
       "  </thead>\n",
       "  <tbody>\n",
       "    <tr>\n",
       "      <th>0</th>\n",
       "      <td>321230114</td>\n",
       "      <td>2020-12-11 00:01:29</td>\n",
       "      <td>Pending</td>\n",
       "    </tr>\n",
       "    <tr>\n",
       "      <th>1</th>\n",
       "      <td>321230114</td>\n",
       "      <td>2020-12-11 00:06:29</td>\n",
       "      <td>Out For Delivery</td>\n",
       "    </tr>\n",
       "  </tbody>\n",
       "</table>\n",
       "</div>"
      ],
      "text/plain": [
       "    order_id          time_stamp            status\n",
       "0  321230114 2020-12-11 00:01:29           Pending\n",
       "1  321230114 2020-12-11 00:06:29  Out For Delivery"
      ]
     },
     "execution_count": 38,
     "metadata": {},
     "output_type": "execute_result"
    }
   ],
   "source": [
    "delivery_df.head(2)"
   ]
  },
  {
   "cell_type": "code",
   "execution_count": 39,
   "id": "7e08560e",
   "metadata": {},
   "outputs": [
    {
     "name": "stdout",
     "output_type": "stream",
     "text": [
      "Columns Name in Products Dataset:  Index(['item_id', 'category', 'Item', 'Size', 'Price'], dtype='object')\n",
      "Columns Name in Orders Dataset:  Index(['order_id', 'order_placed_at'], dtype='object')\n",
      "Columns Name in Orders Items Dataset:  Index(['order_id', 'items_ordered'], dtype='object')\n",
      "Columns Name in Delivery Dataset:  Index(['order_id', 'time_stamp', 'status'], dtype='object')\n"
     ]
    }
   ],
   "source": [
    "# For better understanding let's print the name of columns of each dataset\n",
    "print(\"Columns Name in Products Dataset: \", products_df.columns)\n",
    "print(\"Columns Name in Orders Dataset: \", orders_df.columns)\n",
    "print(\"Columns Name in Orders Items Dataset: \", order_items_df.columns)\n",
    "print(\"Columns Name in Delivery Dataset: \", delivery_df.columns)"
   ]
  },
  {
   "cell_type": "code",
   "execution_count": 40,
   "id": "9d1bdb53",
   "metadata": {},
   "outputs": [],
   "source": [
    "# Merge all the dataset and make it one for the convenience in data analysis\n",
    "merged_df = pd.merge(orders_df, order_items_df, on = \"order_id\", how = \"inner\")\n",
    "dataset = pd.merge(merged_df, delivery_df, on = \"order_id\", how = \"inner\")"
   ]
  },
  {
   "cell_type": "code",
   "execution_count": 41,
   "id": "19019163",
   "metadata": {},
   "outputs": [
    {
     "data": {
      "text/plain": [
       "(1363008, 5)"
      ]
     },
     "execution_count": 41,
     "metadata": {},
     "output_type": "execute_result"
    }
   ],
   "source": [
    "dataset.shape"
   ]
  },
  {
   "cell_type": "code",
   "execution_count": 42,
   "id": "88c4a0c4",
   "metadata": {},
   "outputs": [
    {
     "data": {
      "text/plain": [
       "order_id           0\n",
       "order_placed_at    0\n",
       "items_ordered      0\n",
       "time_stamp         0\n",
       "status             0\n",
       "dtype: int64"
      ]
     },
     "execution_count": 42,
     "metadata": {},
     "output_type": "execute_result"
    }
   ],
   "source": [
    "# Check if there is any null value present in the final dataset\n",
    "dataset.isnull().sum()"
   ]
  },
  {
   "cell_type": "code",
   "execution_count": 43,
   "id": "a87d4f7d",
   "metadata": {},
   "outputs": [
    {
     "data": {
      "text/html": [
       "<div>\n",
       "<style scoped>\n",
       "    .dataframe tbody tr th:only-of-type {\n",
       "        vertical-align: middle;\n",
       "    }\n",
       "\n",
       "    .dataframe tbody tr th {\n",
       "        vertical-align: top;\n",
       "    }\n",
       "\n",
       "    .dataframe thead th {\n",
       "        text-align: right;\n",
       "    }\n",
       "</style>\n",
       "<table border=\"1\" class=\"dataframe\">\n",
       "  <thead>\n",
       "    <tr style=\"text-align: right;\">\n",
       "      <th></th>\n",
       "      <th>order_id</th>\n",
       "      <th>order_placed_at</th>\n",
       "      <th>items_ordered</th>\n",
       "      <th>time_stamp</th>\n",
       "      <th>status</th>\n",
       "    </tr>\n",
       "  </thead>\n",
       "  <tbody>\n",
       "    <tr>\n",
       "      <th>0</th>\n",
       "      <td>321230114</td>\n",
       "      <td>2020-12-11 00:01:29</td>\n",
       "      <td>['p_025', 'p_032', 'p_037']</td>\n",
       "      <td>2020-12-11 00:01:29.000000000</td>\n",
       "      <td>Pending</td>\n",
       "    </tr>\n",
       "    <tr>\n",
       "      <th>1</th>\n",
       "      <td>321230114</td>\n",
       "      <td>2020-12-11 00:01:29</td>\n",
       "      <td>['p_025', 'p_032', 'p_037']</td>\n",
       "      <td>2020-12-11 00:06:29.000000000</td>\n",
       "      <td>Out For Delivery</td>\n",
       "    </tr>\n",
       "    <tr>\n",
       "      <th>2</th>\n",
       "      <td>321230114</td>\n",
       "      <td>2020-12-11 00:01:29</td>\n",
       "      <td>['p_025', 'p_032', 'p_037']</td>\n",
       "      <td>2020-12-11 00:19:13.299151076</td>\n",
       "      <td>Delivered</td>\n",
       "    </tr>\n",
       "    <tr>\n",
       "      <th>3</th>\n",
       "      <td>321230115</td>\n",
       "      <td>2020-12-11 00:36:02</td>\n",
       "      <td>['p_017', 'p_012']</td>\n",
       "      <td>2020-12-11 00:36:02.000000000</td>\n",
       "      <td>Pending</td>\n",
       "    </tr>\n",
       "    <tr>\n",
       "      <th>4</th>\n",
       "      <td>321230115</td>\n",
       "      <td>2020-12-11 00:36:02</td>\n",
       "      <td>['p_017', 'p_012']</td>\n",
       "      <td>2020-12-11 00:41:02.000000000</td>\n",
       "      <td>Out For Delivery</td>\n",
       "    </tr>\n",
       "  </tbody>\n",
       "</table>\n",
       "</div>"
      ],
      "text/plain": [
       "    order_id     order_placed_at                items_ordered  \\\n",
       "0  321230114 2020-12-11 00:01:29  ['p_025', 'p_032', 'p_037']   \n",
       "1  321230114 2020-12-11 00:01:29  ['p_025', 'p_032', 'p_037']   \n",
       "2  321230114 2020-12-11 00:01:29  ['p_025', 'p_032', 'p_037']   \n",
       "3  321230115 2020-12-11 00:36:02           ['p_017', 'p_012']   \n",
       "4  321230115 2020-12-11 00:36:02           ['p_017', 'p_012']   \n",
       "\n",
       "                     time_stamp            status  \n",
       "0 2020-12-11 00:01:29.000000000           Pending  \n",
       "1 2020-12-11 00:06:29.000000000  Out For Delivery  \n",
       "2 2020-12-11 00:19:13.299151076         Delivered  \n",
       "3 2020-12-11 00:36:02.000000000           Pending  \n",
       "4 2020-12-11 00:41:02.000000000  Out For Delivery  "
      ]
     },
     "execution_count": 43,
     "metadata": {},
     "output_type": "execute_result"
    }
   ],
   "source": [
    "dataset.head()"
   ]
  },
  {
   "cell_type": "code",
   "execution_count": 44,
   "id": "44df869c",
   "metadata": {},
   "outputs": [
    {
     "name": "stdout",
     "output_type": "stream",
     "text": [
      "<class 'pandas.core.frame.DataFrame'>\n",
      "Int64Index: 1363008 entries, 0 to 1363007\n",
      "Data columns (total 5 columns):\n",
      " #   Column           Non-Null Count    Dtype         \n",
      "---  ------           --------------    -----         \n",
      " 0   order_id         1363008 non-null  int64         \n",
      " 1   order_placed_at  1363008 non-null  datetime64[ns]\n",
      " 2   items_ordered    1363008 non-null  object        \n",
      " 3   time_stamp       1363008 non-null  datetime64[ns]\n",
      " 4   status           1363008 non-null  object        \n",
      "dtypes: datetime64[ns](2), int64(1), object(2)\n",
      "memory usage: 62.4+ MB\n"
     ]
    }
   ],
   "source": [
    "dataset.info()"
   ]
  },
  {
   "cell_type": "markdown",
   "id": "785c18e0",
   "metadata": {},
   "source": [
    "##### 1. What is the average Delivery Time (in minutes) taken by the store to deliver the Pizza?"
   ]
  },
  {
   "cell_type": "code",
   "execution_count": 45,
   "id": "a91664ca",
   "metadata": {},
   "outputs": [
    {
     "name": "stdout",
     "output_type": "stream",
     "text": [
      "Average Time taken to deliver the pizzas: 8.55\n"
     ]
    }
   ],
   "source": [
    "# Adding a new column for time taken to deliver the pizza in minutes\n",
    "dataset[\"Delivery_minute\"] = round((dataset[\"time_stamp\"] - dataset[\"order_placed_at\"]).dt.total_seconds()/60, 2)\n",
    "\n",
    "# Average Delivery Time(in minutes) to deliver the pizzas\n",
    "delivery_time = dataset[\"Delivery_minute\"].mean()\n",
    "print(f\"Average Time taken to deliver the pizzas: {delivery_time:.2f}\")"
   ]
  },
  {
   "cell_type": "markdown",
   "id": "be979524",
   "metadata": {},
   "source": [
    "##### 2. What is the 99th percentile Delivery Time (in minutes) taken by the store to deliver the Pizza?"
   ]
  },
  {
   "cell_type": "code",
   "execution_count": 46,
   "id": "6dc33db0",
   "metadata": {},
   "outputs": [
    {
     "name": "stdout",
     "output_type": "stream",
     "text": [
      "99th percentile Delivery Time(in minutes) is: 27.75\n"
     ]
    }
   ],
   "source": [
    "percentile_99_delivery_time  = dataset[\"Delivery_minute\"].quantile(0.99)\n",
    "print(\"99th percentile Delivery Time(in minutes) is: {:.2f}\".format(percentile_99_delivery_time))"
   ]
  },
  {
   "cell_type": "markdown",
   "id": "e170e9db",
   "metadata": {},
   "source": [
    "###### Observation: \n",
    "- Around 99% of the pizza were delivered within 30 minutes. "
   ]
  },
  {
   "cell_type": "markdown",
   "id": "c15a90d9",
   "metadata": {},
   "source": [
    "##### 3. Which metric is the better choice to determine the stores performance based on Delivery Time?\n",
    "\n",
    "- a. Mean\n",
    "- b. Median\n",
    "- c. 95th or 99th Percentile\n",
    "- d. None of the above"
   ]
  },
  {
   "cell_type": "markdown",
   "id": "e8530f07",
   "metadata": {},
   "source": [
    "###### Answer: c"
   ]
  },
  {
   "cell_type": "markdown",
   "id": "1daf14d3",
   "metadata": {},
   "source": [
    "##### 4. What is the order id with the maximum delivery time?"
   ]
  },
  {
   "cell_type": "code",
   "execution_count": 47,
   "id": "d66d0252",
   "metadata": {},
   "outputs": [
    {
     "name": "stdout",
     "output_type": "stream",
     "text": [
      "Order ID with the maximum delivery time: 321629049\n",
      "Maximum delivery time: 62.91 minutes\n"
     ]
    }
   ],
   "source": [
    "# Find the index of the row with the maximum delivery time\n",
    "max_delivery_idx = dataset[\"Delivery_minute\"].idxmax()\n",
    "\n",
    "# Extract the 'order_id' from the corresponding row\n",
    "order_id_max_delivery = dataset.loc[max_delivery_idx, \"order_id\"]\n",
    "\n",
    "# Extract the maximum delivery time\n",
    "max_delivery_time = dataset.loc[max_delivery_idx, \"Delivery_minute\"]\n",
    "\n",
    "print(f\"Order ID with the maximum delivery time: {order_id_max_delivery}\")\n",
    "print(f\"Maximum delivery time: {max_delivery_time} minutes\")"
   ]
  },
  {
   "cell_type": "markdown",
   "id": "281ae5a7",
   "metadata": {},
   "source": [
    "##### 5. How many pizza's were ordered between 1st January and 31st January 2024 (INCLUSIVE)?"
   ]
  },
  {
   "cell_type": "code",
   "execution_count": 48,
   "id": "ea715765",
   "metadata": {},
   "outputs": [],
   "source": [
    "# Define the start and end dates for the January order filtering\n",
    "start_date = \"2024-01-01\"\n",
    "end_date = \"2024-01-31\"\n",
    "\n",
    "# Filter the dataset to get all orders placed in January 2024\n",
    "total_jan_orders = dataset[(dataset[\"order_placed_at\"] >= start_date) & (dataset[\"order_placed_at\"] <= end_date)]\n",
    "\n",
    "# Define a lambda function that calculates the number of items ordered from a string representation\n",
    "lambda_fun = lambda x: len(eval(x))\n",
    "\n",
    "# Apply the lambda function to the 'items_ordered' column of the filtered orders,\n",
    "# and sum up the total number of items ordered within January\n",
    "total_orders_within_jan = total_jan_orders[\"items_ordered\"].apply(lambda_fun).sum()"
   ]
  },
  {
   "cell_type": "code",
   "execution_count": 49,
   "id": "740071a6",
   "metadata": {},
   "outputs": [
    {
     "name": "stdout",
     "output_type": "stream",
     "text": [
      "The total orders placed in the month of Jan is : 91008\n"
     ]
    }
   ],
   "source": [
    "print(\"The total orders placed in the month of Jan is : {}\".format(total_orders_within_jan))"
   ]
  },
  {
   "cell_type": "markdown",
   "id": "ba862336",
   "metadata": {},
   "source": [
    "##### 6. How many order took more than 30 minutes to deliver between 1st January and 31st January 2024 (INCLUSIVE)?"
   ]
  },
  {
   "cell_type": "code",
   "execution_count": 50,
   "id": "12058579",
   "metadata": {},
   "outputs": [
    {
     "name": "stdout",
     "output_type": "stream",
     "text": [
      "The total number of orders that were delivered in more than 30 minutes: 158\n"
     ]
    }
   ],
   "source": [
    "orders_delivery_more_than_30_mins = total_jan_orders[total_jan_orders[\"Delivery_minute\"] > 30]\n",
    "number_of_orders = len(orders_delivery_more_than_30_mins)\n",
    "print(f\"The total number of orders that were delivered in more than 30 minutes: {number_of_orders}\")"
   ]
  },
  {
   "cell_type": "markdown",
   "id": "a14a39f9",
   "metadata": {},
   "source": [
    "##### 7. What is the total amount Pizza store lost in 2023 due to refunds on late deliveries?"
   ]
  },
  {
   "cell_type": "code",
   "execution_count": 51,
   "id": "634a2be6",
   "metadata": {},
   "outputs": [],
   "source": [
    "import ast\n",
    "\n",
    "# Convert the 'items_ordered' column from strings to actual lists\n",
    "dataset[\"items_ordered\"] = dataset[\"items_ordered\"].apply(ast.literal_eval)\n",
    "\n",
    "# Now explode the 'items_ordered' lists into separate rows\n",
    "dataset_exploded = dataset.explode(\"items_ordered\")"
   ]
  },
  {
   "cell_type": "code",
   "execution_count": 52,
   "id": "eb5d28a8",
   "metadata": {},
   "outputs": [
    {
     "data": {
      "text/html": [
       "<div>\n",
       "<style scoped>\n",
       "    .dataframe tbody tr th:only-of-type {\n",
       "        vertical-align: middle;\n",
       "    }\n",
       "\n",
       "    .dataframe tbody tr th {\n",
       "        vertical-align: top;\n",
       "    }\n",
       "\n",
       "    .dataframe thead th {\n",
       "        text-align: right;\n",
       "    }\n",
       "</style>\n",
       "<table border=\"1\" class=\"dataframe\">\n",
       "  <thead>\n",
       "    <tr style=\"text-align: right;\">\n",
       "      <th></th>\n",
       "      <th>order_id</th>\n",
       "      <th>order_placed_at</th>\n",
       "      <th>items_ordered</th>\n",
       "      <th>time_stamp</th>\n",
       "      <th>status</th>\n",
       "      <th>Delivery_minute</th>\n",
       "    </tr>\n",
       "  </thead>\n",
       "  <tbody>\n",
       "    <tr>\n",
       "      <th>0</th>\n",
       "      <td>321230114</td>\n",
       "      <td>2020-12-11 00:01:29</td>\n",
       "      <td>p_025</td>\n",
       "      <td>2020-12-11 00:01:29</td>\n",
       "      <td>Pending</td>\n",
       "      <td>0.0</td>\n",
       "    </tr>\n",
       "    <tr>\n",
       "      <th>0</th>\n",
       "      <td>321230114</td>\n",
       "      <td>2020-12-11 00:01:29</td>\n",
       "      <td>p_032</td>\n",
       "      <td>2020-12-11 00:01:29</td>\n",
       "      <td>Pending</td>\n",
       "      <td>0.0</td>\n",
       "    </tr>\n",
       "    <tr>\n",
       "      <th>0</th>\n",
       "      <td>321230114</td>\n",
       "      <td>2020-12-11 00:01:29</td>\n",
       "      <td>p_037</td>\n",
       "      <td>2020-12-11 00:01:29</td>\n",
       "      <td>Pending</td>\n",
       "      <td>0.0</td>\n",
       "    </tr>\n",
       "    <tr>\n",
       "      <th>1</th>\n",
       "      <td>321230114</td>\n",
       "      <td>2020-12-11 00:01:29</td>\n",
       "      <td>p_025</td>\n",
       "      <td>2020-12-11 00:06:29</td>\n",
       "      <td>Out For Delivery</td>\n",
       "      <td>5.0</td>\n",
       "    </tr>\n",
       "    <tr>\n",
       "      <th>1</th>\n",
       "      <td>321230114</td>\n",
       "      <td>2020-12-11 00:01:29</td>\n",
       "      <td>p_032</td>\n",
       "      <td>2020-12-11 00:06:29</td>\n",
       "      <td>Out For Delivery</td>\n",
       "      <td>5.0</td>\n",
       "    </tr>\n",
       "  </tbody>\n",
       "</table>\n",
       "</div>"
      ],
      "text/plain": [
       "    order_id     order_placed_at items_ordered          time_stamp  \\\n",
       "0  321230114 2020-12-11 00:01:29         p_025 2020-12-11 00:01:29   \n",
       "0  321230114 2020-12-11 00:01:29         p_032 2020-12-11 00:01:29   \n",
       "0  321230114 2020-12-11 00:01:29         p_037 2020-12-11 00:01:29   \n",
       "1  321230114 2020-12-11 00:01:29         p_025 2020-12-11 00:06:29   \n",
       "1  321230114 2020-12-11 00:01:29         p_032 2020-12-11 00:06:29   \n",
       "\n",
       "             status  Delivery_minute  \n",
       "0           Pending              0.0  \n",
       "0           Pending              0.0  \n",
       "0           Pending              0.0  \n",
       "1  Out For Delivery              5.0  \n",
       "1  Out For Delivery              5.0  "
      ]
     },
     "execution_count": 52,
     "metadata": {},
     "output_type": "execute_result"
    }
   ],
   "source": [
    "dataset_exploded.head()"
   ]
  },
  {
   "cell_type": "code",
   "execution_count": 53,
   "id": "02daccb9",
   "metadata": {},
   "outputs": [
    {
     "data": {
      "text/plain": [
       "(3476679, 6)"
      ]
     },
     "execution_count": 53,
     "metadata": {},
     "output_type": "execute_result"
    }
   ],
   "source": [
    "dataset_exploded.shape"
   ]
  },
  {
   "cell_type": "code",
   "execution_count": 54,
   "id": "767cb524",
   "metadata": {},
   "outputs": [],
   "source": [
    "# Merge the dataset with products_df on item_id, performing a left join to retain all orders\n",
    "dataset = dataset_exploded.merge(products_df, left_on = \"items_ordered\", right_on = \"item_id\", how = \"left\")"
   ]
  },
  {
   "cell_type": "code",
   "execution_count": 55,
   "id": "b10d6632",
   "metadata": {},
   "outputs": [
    {
     "data": {
      "text/plain": [
       "(3476679, 11)"
      ]
     },
     "execution_count": 55,
     "metadata": {},
     "output_type": "execute_result"
    }
   ],
   "source": [
    "dataset.shape"
   ]
  },
  {
   "cell_type": "code",
   "execution_count": 56,
   "id": "ff31a745",
   "metadata": {},
   "outputs": [
    {
     "data": {
      "text/plain": [
       "order_id           0\n",
       "order_placed_at    0\n",
       "items_ordered      0\n",
       "time_stamp         0\n",
       "status             0\n",
       "Delivery_minute    0\n",
       "item_id            0\n",
       "category           0\n",
       "Item               0\n",
       "Size               0\n",
       "Price              0\n",
       "dtype: int64"
      ]
     },
     "execution_count": 56,
     "metadata": {},
     "output_type": "execute_result"
    }
   ],
   "source": [
    "dataset.isnull().sum()"
   ]
  },
  {
   "cell_type": "code",
   "execution_count": 57,
   "id": "ec1f5f43",
   "metadata": {},
   "outputs": [],
   "source": [
    "# There is no null values"
   ]
  },
  {
   "cell_type": "code",
   "execution_count": 58,
   "id": "43155711",
   "metadata": {},
   "outputs": [
    {
     "data": {
      "text/html": [
       "<div>\n",
       "<style scoped>\n",
       "    .dataframe tbody tr th:only-of-type {\n",
       "        vertical-align: middle;\n",
       "    }\n",
       "\n",
       "    .dataframe tbody tr th {\n",
       "        vertical-align: top;\n",
       "    }\n",
       "\n",
       "    .dataframe thead th {\n",
       "        text-align: right;\n",
       "    }\n",
       "</style>\n",
       "<table border=\"1\" class=\"dataframe\">\n",
       "  <thead>\n",
       "    <tr style=\"text-align: right;\">\n",
       "      <th></th>\n",
       "      <th>order_id</th>\n",
       "      <th>order_placed_at</th>\n",
       "      <th>items_ordered</th>\n",
       "      <th>time_stamp</th>\n",
       "      <th>status</th>\n",
       "      <th>Delivery_minute</th>\n",
       "      <th>item_id</th>\n",
       "      <th>category</th>\n",
       "      <th>Item</th>\n",
       "      <th>Size</th>\n",
       "      <th>Price</th>\n",
       "    </tr>\n",
       "  </thead>\n",
       "  <tbody>\n",
       "    <tr>\n",
       "      <th>0</th>\n",
       "      <td>321230114</td>\n",
       "      <td>2020-12-11 00:01:29</td>\n",
       "      <td>p_025</td>\n",
       "      <td>2020-12-11 00:01:29</td>\n",
       "      <td>Pending</td>\n",
       "      <td>0.0</td>\n",
       "      <td>p_025</td>\n",
       "      <td>Non Veg</td>\n",
       "      <td>Chicken Dominator</td>\n",
       "      <td>Regular</td>\n",
       "      <td>365</td>\n",
       "    </tr>\n",
       "    <tr>\n",
       "      <th>1</th>\n",
       "      <td>321230114</td>\n",
       "      <td>2020-12-11 00:01:29</td>\n",
       "      <td>p_032</td>\n",
       "      <td>2020-12-11 00:01:29</td>\n",
       "      <td>Pending</td>\n",
       "      <td>0.0</td>\n",
       "      <td>p_032</td>\n",
       "      <td>Non Veg</td>\n",
       "      <td>Indi Chicken Tikka</td>\n",
       "      <td>Medium</td>\n",
       "      <td>599</td>\n",
       "    </tr>\n",
       "    <tr>\n",
       "      <th>2</th>\n",
       "      <td>321230114</td>\n",
       "      <td>2020-12-11 00:01:29</td>\n",
       "      <td>p_037</td>\n",
       "      <td>2020-12-11 00:01:29</td>\n",
       "      <td>Pending</td>\n",
       "      <td>0.0</td>\n",
       "      <td>p_037</td>\n",
       "      <td>Veg</td>\n",
       "      <td>Coke</td>\n",
       "      <td>Regular</td>\n",
       "      <td>71</td>\n",
       "    </tr>\n",
       "    <tr>\n",
       "      <th>3</th>\n",
       "      <td>321230114</td>\n",
       "      <td>2020-12-11 00:01:29</td>\n",
       "      <td>p_025</td>\n",
       "      <td>2020-12-11 00:06:29</td>\n",
       "      <td>Out For Delivery</td>\n",
       "      <td>5.0</td>\n",
       "      <td>p_025</td>\n",
       "      <td>Non Veg</td>\n",
       "      <td>Chicken Dominator</td>\n",
       "      <td>Regular</td>\n",
       "      <td>365</td>\n",
       "    </tr>\n",
       "    <tr>\n",
       "      <th>4</th>\n",
       "      <td>321230114</td>\n",
       "      <td>2020-12-11 00:01:29</td>\n",
       "      <td>p_032</td>\n",
       "      <td>2020-12-11 00:06:29</td>\n",
       "      <td>Out For Delivery</td>\n",
       "      <td>5.0</td>\n",
       "      <td>p_032</td>\n",
       "      <td>Non Veg</td>\n",
       "      <td>Indi Chicken Tikka</td>\n",
       "      <td>Medium</td>\n",
       "      <td>599</td>\n",
       "    </tr>\n",
       "  </tbody>\n",
       "</table>\n",
       "</div>"
      ],
      "text/plain": [
       "    order_id     order_placed_at items_ordered          time_stamp  \\\n",
       "0  321230114 2020-12-11 00:01:29         p_025 2020-12-11 00:01:29   \n",
       "1  321230114 2020-12-11 00:01:29         p_032 2020-12-11 00:01:29   \n",
       "2  321230114 2020-12-11 00:01:29         p_037 2020-12-11 00:01:29   \n",
       "3  321230114 2020-12-11 00:01:29         p_025 2020-12-11 00:06:29   \n",
       "4  321230114 2020-12-11 00:01:29         p_032 2020-12-11 00:06:29   \n",
       "\n",
       "             status  Delivery_minute item_id category                Item  \\\n",
       "0           Pending              0.0   p_025  Non Veg   Chicken Dominator   \n",
       "1           Pending              0.0   p_032  Non Veg  Indi Chicken Tikka   \n",
       "2           Pending              0.0   p_037      Veg                Coke   \n",
       "3  Out For Delivery              5.0   p_025  Non Veg   Chicken Dominator   \n",
       "4  Out For Delivery              5.0   p_032  Non Veg  Indi Chicken Tikka   \n",
       "\n",
       "      Size  Price  \n",
       "0  Regular    365  \n",
       "1   Medium    599  \n",
       "2  Regular     71  \n",
       "3  Regular    365  \n",
       "4   Medium    599  "
      ]
     },
     "execution_count": 58,
     "metadata": {},
     "output_type": "execute_result"
    }
   ],
   "source": [
    "dataset.head()"
   ]
  },
  {
   "cell_type": "code",
   "execution_count": 59,
   "id": "809ef20f",
   "metadata": {},
   "outputs": [],
   "source": [
    "orders_2023 = dataset[dataset[\"order_placed_at\"].dt.year == 2023]\n",
    "late_delivery_pizzas = orders_2023[orders_2023[\"Delivery_minute\"] > 30]\n",
    "total_loss_2023 = late_delivery_pizzas[\"Price\"].sum()"
   ]
  },
  {
   "cell_type": "code",
   "execution_count": 60,
   "id": "17345adf",
   "metadata": {},
   "outputs": [],
   "source": [
    "# Alternative way of filtering the dataset \n",
    "# start_date = \"2023-01-01\"\n",
    "# end_date = \"2024-01-01\"\n",
    "\n",
    "# dataset[(dataset[\"order_placed_at\"] >= start_date) & (dataset[\"order_placed_at\"] < end_date)]"
   ]
  },
  {
   "cell_type": "code",
   "execution_count": 61,
   "id": "2bb469c9",
   "metadata": {},
   "outputs": [
    {
     "name": "stdout",
     "output_type": "stream",
     "text": [
      "Total loss of amount in 2023 occurred in thousand: 1820201\n"
     ]
    }
   ],
   "source": [
    "print(\"Total loss of amount in 2023 occurred in thousand: {}\".format(total_loss_2023))"
   ]
  },
  {
   "cell_type": "markdown",
   "id": "757b3da8",
   "metadata": {},
   "source": [
    "##### 8. In which year Pizza store has lost maximum amount due to refunds on late deliveries?"
   ]
  },
  {
   "cell_type": "code",
   "execution_count": 62,
   "id": "e9e5af91",
   "metadata": {},
   "outputs": [
    {
     "name": "stdout",
     "output_type": "stream",
     "text": [
      "Year with the maximum amount lost due to refunds on late deliveries: 2023 (₹1820201.00)\n"
     ]
    }
   ],
   "source": [
    "# Filter the dataset of late deliveries\n",
    "late_delivery_orders = dataset[dataset[\"Delivery_minute\"] > 30]\n",
    "# Create a full copy\n",
    "late_delivery_orders = late_delivery_orders.copy()\n",
    "# Now add the column\n",
    "late_delivery_orders[\"Year\"] = late_delivery_orders[\"order_placed_at\"].dt.year\n",
    "# Calculate loss per year with the help of group by \n",
    "loss_per_year = late_delivery_orders.groupby(\"Year\")[\"Price\"].sum()\n",
    "# Find the year with the maximum loss\n",
    "max_loss_year = loss_per_year.idxmax()\n",
    "# Find the amount of loss due to refund\n",
    "max_loss_amount = loss_per_year.max()\n",
    "print(f\"Year with the maximum amount lost due to refunds on late deliveries: {max_loss_year} (₹{max_loss_amount:.2f})\")"
   ]
  },
  {
   "cell_type": "markdown",
   "id": "971c117e",
   "metadata": {},
   "source": [
    "##### 9. How much revenue is generated by the pizza store till date? Don't include the refund amount in revenue."
   ]
  },
  {
   "cell_type": "code",
   "execution_count": 63,
   "id": "5dde18e9",
   "metadata": {},
   "outputs": [
    {
     "name": "stdout",
     "output_type": "stream",
     "text": [
      "Total revenue generated by the pizza store till date (excluding refunds): ₹402295677.00\n"
     ]
    }
   ],
   "source": [
    "# Filteration of the pizzas delivered within 30 minutes\n",
    "orders_less_than_30_mins = dataset[dataset[\"Delivery_minute\"] < 30]\n",
    "# Filter out the data that were delivered\n",
    "orders_delivered_on_time = orders_less_than_30_mins[orders_less_than_30_mins[\"status\"] == \"Delivered\"]\n",
    "# Calculate total revenue of the orders delivered within 30 minutes\n",
    "total_revenue = orders_delivered_on_time[\"Price\"].sum()\n",
    "print(f\"Total revenue generated by the pizza store till date (excluding refunds): ₹{total_revenue:.2f}\")"
   ]
  },
  {
   "cell_type": "markdown",
   "id": "8371e4dc",
   "metadata": {},
   "source": [
    "###### `Bonus Question:` Which distribution can be used to model the number of orders incoming each hour? If we can somehow model it, which problem for owner of Pizza Store can be solved?"
   ]
  },
  {
   "cell_type": "code",
   "execution_count": 65,
   "id": "f439bfae",
   "metadata": {},
   "outputs": [
    {
     "name": "stdout",
     "output_type": "stream",
     "text": [
      "The average number of orders per hour is: 17\n"
     ]
    }
   ],
   "source": [
    "# Extract the year, date, and hour from the order_placed_at timestamp\n",
    "dataset[\"Year\"] = dataset[\"order_placed_at\"].dt.year\n",
    "dataset[\"Date\"] = dataset[\"order_placed_at\"].dt.date\n",
    "dataset[\"Hour\"] = dataset[\"order_placed_at\"].dt.hour\n",
    "\n",
    "# Sort the dataset by order_placed_at for accurate ordering\n",
    "sorted_dataset = dataset.sort_values(by=\"order_placed_at\")\n",
    "\n",
    "# Remove duplicate orders, keeping only the first instance of each order_id\n",
    "unique_orders_dataset = sorted_dataset.drop_duplicates(subset=\"order_id\", keep=\"first\")\n",
    "\n",
    "# Group the data by Year, Date, and Hour to count the number of unique orders per hour\n",
    "orders_per_hour = unique_orders_dataset.groupby([\"Year\", \"Date\", \"Hour\"]).size().reset_index(name=\"Number_of_orders\")\n",
    "\n",
    "# Calculate the average number of orders per day from the grouped data\n",
    "average_orders_per_hour = orders_per_hour[\"Number_of_orders\"].mean()\n",
    "\n",
    "# Print the average number of orders per day, rounded to the nearest whole number\n",
    "print(f\"The average number of orders per hour is: {round(average_orders_per_hour)}\")"
   ]
  },
  {
   "cell_type": "code",
   "execution_count": 66,
   "id": "dc3a581b",
   "metadata": {},
   "outputs": [
    {
     "data": {
      "image/png": "[encoded data removed]",
      "text/plain": [
       "<Figure size 1000x600 with 1 Axes>"
      ]
     },
     "metadata": {},
     "output_type": "display_data"
    }
   ],
   "source": [
    "# Simulate number of orders for a day (24 hours)\n",
    "orders_per_hour = np.random.poisson(average_orders_per_hour, 24)\n",
    "\n",
    "# Plotting the results\n",
    "plt.figure(figsize=(10, 6))\n",
    "plt.bar(range(24), orders_per_hour, color = \"skyblue\")\n",
    "plt.xlabel(\"Hour of the Day\")\n",
    "plt.ylabel(\"Number of Orders\")\n",
    "plt.title(\"Simulated Number of Orders Incoming Each Hour (Poisson Distribution)\")\n",
    "plt.xticks(range(24))\n",
    "plt.grid(axis = \"y\", linestyle = \"--\", alpha = 0.7)\n",
    "plt.show()\n"
   ]
  },
  {
   "cell_type": "markdown",
   "id": "2a29976d",
   "metadata": {},
   "source": [
    "##### Problem Solved for the Pizza Store Owner:"
   ]
  },
  {
   "cell_type": "markdown",
   "id": "4df504c3",
   "metadata": {},
   "source": [
    "- `Staffing Decisions:` Predicting hourly orders helps manage staffing levels during peak times, improving service efficiency.\n",
    "\n",
    "- `Inventory Management:` Analyzing order patterns aids in stocking popular items and reducing food wastage.\n",
    "\n",
    "- `Delivery Planning:` Accurate predictions optimize delivery logistics and personnel allocation during high-demand periods.\n",
    "\n",
    "- `Financial Forecasting:` Understanding order trends enhances revenue forecasting and marketing strategy adjustments."
   ]
  },
  {
   "cell_type": "code",
   "execution_count": null,
   "id": "f2cb474f",
   "metadata": {},
   "outputs": [],
   "source": []
  }
 ],
 "metadata": {
  "kernelspec": {
   "display_name": "Python 3 (ipykernel)",
   "language": "python",
   "name": "python3"
  },
  "language_info": {
   "codemirror_mode": {
    "name": "ipython",
    "version": 3
   },
   "file_extension": ".py",
   "mimetype": "text/x-python",
   "name": "python",
   "nbconvert_exporter": "python",
   "pygments_lexer": "ipython3",
   "version": "3.12.4"
  }
 },
 "nbformat": 4,
 "nbformat_minor": 5
}
